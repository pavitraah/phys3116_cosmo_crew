{
 "cells": [
  {
   "cell_type": "markdown",
   "id": "ab410dea",
   "metadata": {},
   "source": [
    "# Cosmo Crew Group Assignment"
   ]
  },
  {
   "cell_type": "code",
   "execution_count": null,
   "id": "c82268ae",
   "metadata": {
    "vscode": {
     "languageId": "plaintext"
    }
   },
   "outputs": [],
   "source": [
    "import matplotlib.pyplot as plt\n",
    "import numpy as np\n",
    "import pandas as pd"
   ]
  }
 ],
 "metadata": {
  "language_info": {
   "name": "python"
  }
 },
 "nbformat": 4,
 "nbformat_minor": 5
}
