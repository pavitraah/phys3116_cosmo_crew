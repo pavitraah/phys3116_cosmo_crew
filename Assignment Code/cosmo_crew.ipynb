{
 "cells": [
  {
   "cell_type": "markdown",
   "id": "ab410dea",
   "metadata": {},
   "source": [
    "# Cosmo Crew Group Assignment"
   ]
  },
  {
   "cell_type": "code",
   "execution_count": null,
   "id": "c82268ae",
   "metadata": {},
   "outputs": [],
   "source": [
    "import matplotlib.pyplot as plt\n",
    "import numpy as np\n",
    "import pandas as pd"
   ]
  },
  {
   "cell_type": "code",
   "execution_count": null,
   "id": "34db6041",
   "metadata": {},
   "outputs": [],
   "source": [
    "harris_p1 = pd.read_csv('../Data/HarrisPartI.csv')      #  Reading in Harris part 1\n",
    "harris_p3 = pd.read_csv('../Data/HarrisPartIII.csv')    #  Reading in Harris part 3\n",
    "krause21 = pd.read_csv('../Data/Krause21.csv')         #  Reading in Krause21\n",
    "vandenBerg_table2 = pd.read_csv('../Data/VandenBerg_table2.csv')    #  Reading in VandenBerg table 2"
   ]
  },
  {
   "cell_type": "code",
   "execution_count": null,
   "id": "e5696586",
   "metadata": {},
   "outputs": [],
   "source": [
    "harris_p1.head()    #  Displaying first 5 rows of Harris part 1"
   ]
  },
  {
   "cell_type": "code",
   "execution_count": null,
   "id": "12492fb7",
   "metadata": {},
   "outputs": [],
   "source": [
    "harris_p3.head()   #  Displaying first 5 rows of Harris part 3"
   ]
  },
  {
   "cell_type": "code",
   "execution_count": null,
   "id": "c70871e6",
   "metadata": {},
   "outputs": [],
   "source": [
    "Krause21.head()   #  Displaying first 5 rows of Krause21"
   ]
  },
  {
   "cell_type": "code",
   "execution_count": null,
   "id": "67d1727a",
   "metadata": {},
   "outputs": [],
   "source": [
    "VandenBerg_table2.head()   #  Displaying first 5 rows of VandenBerg table 2"
   ]
  }
 ],
 "metadata": {
  "kernelspec": {
   "display_name": "Python 3",
   "language": "python",
   "name": "python3"
  },
  "language_info": {
   "codemirror_mode": {
    "name": "ipython",
    "version": 3
   },
   "file_extension": ".py",
   "mimetype": "text/x-python",
   "name": "python",
   "nbconvert_exporter": "python",
   "pygments_lexer": "ipython3",
   "version": "3.13.7"
  }
 },
 "nbformat": 4,
 "nbformat_minor": 5
}
